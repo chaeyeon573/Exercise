{
  "nbformat": 4,
  "nbformat_minor": 0,
  "metadata": {
    "colab": {
      "provenance": [],
      "authorship_tag": "ABX9TyPw7tzT21N6QOSVHEmNmbZ+",
      "include_colab_link": true
    },
    "kernelspec": {
      "name": "python3",
      "display_name": "Python 3"
    },
    "language_info": {
      "name": "python"
    }
  },
  "cells": [
    {
      "cell_type": "markdown",
      "metadata": {
        "id": "view-in-github",
        "colab_type": "text"
      },
      "source": [
        "<a href=\"https://colab.research.google.com/github/chaeyeon573/Exercise/blob/master/Numpy.ipynb\" target=\"_parent\"><img src=\"https://colab.research.google.com/assets/colab-badge.svg\" alt=\"Open In Colab\"/></a>"
      ]
    },
    {
      "cell_type": "code",
      "execution_count": 4,
      "metadata": {
        "colab": {
          "base_uri": "https://localhost:8080/"
        },
        "id": "plcUPaBu7uIj",
        "outputId": "f09c5d96-271c-47e5-d6a7-6ec9c7636d91"
      },
      "outputs": [
        {
          "output_type": "stream",
          "name": "stdout",
          "text": [
            "순위 1인 배열: \n",
            " [1 2 3]\n",
            "랭크 2인 배결: \n",
            " [[1 2 3]\n",
            " [4 5 6]]\n",
            "\n",
            " arra\n",
            "Initial Array: \n",
            "[[-1.   2.   0.   4. ]\n",
            " [ 4.  -0.5  6.   0. ]\n",
            " [ 2.6  0.   7.   8. ]\n",
            " [ 3.  -7.   4.   2. ]]\n",
            "Array with first 2 rows and alternate columns(0 and 2):\n",
            " [[-1.  0.]\n",
            " [ 4.  6.]]\n",
            "\n",
            "Elements at indices (1, 3), (1, 2), (0, 1), (3, 0):\n",
            " [0. 6. 2. 3.]\n"
          ]
        }
      ],
      "source": [
        "import numpy as np\n",
        "\n",
        "arr = np.array([1,2,3])\n",
        "print(\"순위 1인 배열: \\n\",arr)\n",
        "\n",
        "arr= np.array([[1,2,3,],[4,5,6]])\n",
        "print(\"랭크 2인 배결: \\n\" , arr)\n",
        "\n",
        "arr = np.array((1,3,2))\n",
        "print(\"\\n arra\")\n",
        "\n",
        "\n",
        "arr = np.array([[-1, 2, 0, 4],\n",
        "                [4, -0.5, 6, 0],\n",
        "                [2.6, 0, 7, 8],\n",
        "                [3, -7, 4, 2.0]])\n",
        "\n",
        "print(\"Initial Array: \")\n",
        "print(arr)\n",
        "\n",
        "sliced_arr = arr[:2, ::2]\n",
        "print (\"Array with first 2 rows and\"\n",
        "    \" alternate columns(0 and 2):\\n\", sliced_arr)\n",
        "\n",
        "Index_arr = arr[[1, 1, 0, 3],\n",
        "                [3, 2, 1, 0]]\n",
        "print (\"\\nElements at indices (1, 3), \"\n",
        "    \"(1, 2), (0, 1), (3, 0):\\n\", Index_arr)\n"
      ]
    },
    {
      "cell_type": "code",
      "source": [
        "a = np.array([[1, 2],\n",
        "              [3, 4]])\n",
        "\n",
        "# Defining Array 2\n",
        "b = np.array([[4, 3],\n",
        "              [2, 1]])\n",
        "\n",
        "\n",
        "a+=1\n",
        "# Adding 1 to every element\n",
        "print (\"Adding 1 to every element:\", a + 1)\n",
        "\n",
        "# Subtracting 2 from each element\n",
        "print (\"\\nSubtracting 2 from each element:\", b - 2)\n",
        "\n",
        "# sum of array elements\n",
        "# Performing Unary operations\n",
        "print (\"\\nSum of all array \"\n",
        "       \"elements: \", a.sum())\n",
        "\n",
        "# Adding two arrays\n",
        "# Performing Binary operations\n",
        "print (\"\\nArray sum:\\n\", a + b)"
      ],
      "metadata": {
        "colab": {
          "base_uri": "https://localhost:8080/"
        },
        "id": "l3Kn8rie_GeE",
        "outputId": "2b2299df-b9db-40cf-9d03-00f73c02e39d"
      },
      "execution_count": 6,
      "outputs": [
        {
          "output_type": "stream",
          "name": "stdout",
          "text": [
            "Adding 1 to every element: [[3 4]\n",
            " [5 6]]\n",
            "\n",
            "Subtracting 2 from each element: [[ 2  1]\n",
            " [ 0 -1]]\n",
            "\n",
            "Sum of all array elements:  14\n",
            "\n",
            "Array sum:\n",
            " [[6 6]\n",
            " [6 6]]\n"
          ]
        }
      ]
    },
    {
      "cell_type": "code",
      "source": [
        "# Python Program to create\n",
        "# a data type object\n",
        "import numpy as np\n",
        "\n",
        "# Integer datatype\n",
        "# guessed by Numpy\n",
        "x = np.array([1, 2])\n",
        "print(\"Integer Datatype: \")\n",
        "print(x.dtype)\n",
        "\n",
        "# Float datatype\n",
        "# guessed by Numpy\n",
        "x = np.array([1.0, 2.0])\n",
        "print(\"\\nFloat Datatype: \")\n",
        "print(x.dtype)\n",
        "\n",
        "# Forced Datatype\n",
        "x = np.array([1.0, 2.0], dtype = np.int64)\n",
        "print(\"\\nForcing a Datatype: \")\n",
        "print(x.dtype)"
      ],
      "metadata": {
        "colab": {
          "base_uri": "https://localhost:8080/"
        },
        "id": "kZjW9oeX_h_g",
        "outputId": "af8e6024-958f-4c6d-f417-726da11984dd"
      },
      "execution_count": 8,
      "outputs": [
        {
          "output_type": "stream",
          "name": "stdout",
          "text": [
            "Integer Datatype: \n",
            "int64\n",
            "\n",
            "Float Datatype: \n",
            "float64\n",
            "\n",
            "Forcing a Datatype: \n",
            "int64\n"
          ]
        }
      ]
    },
    {
      "cell_type": "code",
      "source": [
        "# Python Program to create\n",
        "# a data type object\n",
        "import numpy as np\n",
        "\n",
        "# First Array\n",
        "arr1 = np.array([[4, 7], [2, 6]],\n",
        "                 dtype = np.float64)\n",
        "\n",
        "\n",
        "# Second Array\n",
        "arr2 = np.array([[3, 6], [2, 8]],\n",
        "                 dtype = np.float64)\n",
        "\n",
        "# Addition of two Arrays\n",
        "Sum = np.add(arr1, arr2)\n",
        "print(\"Addition of Two Arrays: \")\n",
        "print(Sum)\n",
        "\n",
        "\n",
        "arr3=([7.0,13.0],[4.0,14.0])\n",
        "\n",
        "# Addition of all Array elements\n",
        "# using predefined sum method\n",
        "Sum1 = np.sum(arr1)\n",
        "print(\"\\nAddition of Array elements: \")\n",
        "print(Sum1)\n",
        "\n",
        "\n",
        "\n",
        "# Square root of Array\n",
        "Sqrt = np.sqrt(arr1)\n",
        "print(\"\\nSquare root of Array1 elements: \")\n",
        "print(Sqrt)\n",
        "\n",
        "# Transpose of Array\n",
        "# using In-built function 'T'\n",
        "Trans_arr = arr1.T\n",
        "print(\"\\nTranspose of Array: \")\n",
        "print(Trans_arr)"
      ],
      "metadata": {
        "colab": {
          "base_uri": "https://localhost:8080/",
          "height": 219
        },
        "id": "cJZeZlet_xM7",
        "outputId": "954d3edc-88fb-458c-a2a4-f392ac157980"
      },
      "execution_count": 14,
      "outputs": [
        {
          "output_type": "error",
          "ename": "TypeError",
          "evalue": "'tuple' object is not callable",
          "traceback": [
            "\u001b[0;31m---------------------------------------------------------------------------\u001b[0m",
            "\u001b[0;31mTypeError\u001b[0m                                 Traceback (most recent call last)",
            "\u001b[0;32m<ipython-input-14-218954feddc9>\u001b[0m in \u001b[0;36m<cell line: 10>\u001b[0;34m()\u001b[0m\n\u001b[1;32m      8\u001b[0m \u001b[0;34m\u001b[0m\u001b[0m\n\u001b[1;32m      9\u001b[0m \u001b[0;34m\u001b[0m\u001b[0m\n\u001b[0;32m---> 10\u001b[0;31m \u001b[0marr1\u001b[0m\u001b[0;34m.\u001b[0m\u001b[0mshape\u001b[0m\u001b[0;34m(\u001b[0m\u001b[0;34m)\u001b[0m\u001b[0;34m\u001b[0m\u001b[0;34m\u001b[0m\u001b[0m\n\u001b[0m\u001b[1;32m     11\u001b[0m \u001b[0;31m# Second Array\u001b[0m\u001b[0;34m\u001b[0m\u001b[0;34m\u001b[0m\u001b[0m\n\u001b[1;32m     12\u001b[0m arr2 = np.array([[3, 6], [2, 8]], \n",
            "\u001b[0;31mTypeError\u001b[0m: 'tuple' object is not callable"
          ]
        }
      ]
    },
    {
      "cell_type": "code",
      "source": [
        "import numpy as np\n",
        "\n",
        "arr1 = np.array([[-1, 2, 0, 4],\n",
        "                [4, -0.5, 6, 0],\n",
        "                [2.6, 0, 7, 8],\n",
        "                [3, -7, 4, 2.0]],dtype =np.int64)\n",
        "\n",
        "\n",
        "print(arr)\n",
        "\n",
        "print(\"shape of the array: \",arr1.shape)\n",
        "print(\"number of dimension: \",arr.ndim)\n",
        "\n",
        "arr2 = np.array([[-1, 2, 0, 4],\n",
        "                [4, -0.5, 6, 0],\n",
        "                [2.6, 0, 7, 8]],dtype =np.int16)\n",
        "\n",
        "arr3 = np.array([[1,2,3],[4,5,6]])\n",
        "arr4= np.array([1,2,3])\n",
        "\n",
        "print(arr1.size*arr1.itemsize)\n",
        "print(arr1.size)\n",
        "\n",
        "print(arr2.size*arr2.itemsize)\n",
        "print(arr2.size)\n",
        "print(arr2.nbytes)"
      ],
      "metadata": {
        "colab": {
          "base_uri": "https://localhost:8080/"
        },
        "id": "UeHxvtwxC2sp",
        "outputId": "3208ee66-8ff3-4966-b54c-d9613fd09d77"
      },
      "execution_count": 75,
      "outputs": [
        {
          "output_type": "stream",
          "name": "stdout",
          "text": [
            "[[1 2 3]\n",
            " [4 5 6]]\n",
            "shape of the array:  (4, 4)\n",
            "number of dimension:  2\n",
            "128\n",
            "16\n",
            "24\n",
            "12\n",
            "24\n"
          ]
        }
      ]
    },
    {
      "cell_type": "code",
      "source": [
        "arr.dtype"
      ],
      "metadata": {
        "colab": {
          "base_uri": "https://localhost:8080/"
        },
        "id": "anJuI_sIGn_1",
        "outputId": "faf298b4-e8a5-4f4b-834f-e95226020b27"
      },
      "execution_count": 44,
      "outputs": [
        {
          "output_type": "execute_result",
          "data": {
            "text/plain": [
              "dtype('int64')"
            ]
          },
          "metadata": {},
          "execution_count": 44
        }
      ]
    },
    {
      "cell_type": "code",
      "source": [
        "arr.itemsize"
      ],
      "metadata": {
        "colab": {
          "base_uri": "https://localhost:8080/"
        },
        "id": "LdkN3ijAHIBz",
        "outputId": "c24889a6-8c74-41cb-cf05-409b1a0c31c1"
      },
      "execution_count": 45,
      "outputs": [
        {
          "output_type": "execute_result",
          "data": {
            "text/plain": [
              "8"
            ]
          },
          "metadata": {},
          "execution_count": 45
        }
      ]
    },
    {
      "cell_type": "code",
      "source": [
        "import numpy as np\n",
        "\n",
        "a = np.array([[1,2,3,4,5,6,7],[8,9,10,11,12,13,14]])\n",
        "\n",
        "a[1,:]\n",
        "a[:,2]\n",
        "print(a[1,::2])\n",
        "print(a[0,1:-1:2])\n",
        "a[:,2]=[2,3]\n",
        "print(a)\n",
        "\n",
        "b = np.array([[[1,2],[3,4]],[[5,6],[7,8]]])\n",
        "print(b)\n",
        "\n",
        "print(b[0,1,1])"
      ],
      "metadata": {
        "colab": {
          "base_uri": "https://localhost:8080/"
        },
        "id": "snw7vuXEIyxr",
        "outputId": "a39b115e-6691-4fae-8c51-0d5e261fdcb6"
      },
      "execution_count": 73,
      "outputs": [
        {
          "output_type": "stream",
          "name": "stdout",
          "text": [
            "[ 8 10 12 14]\n",
            "[2 4 6]\n",
            "[[ 1  2  2  4  5  6  7]\n",
            " [ 8  9  3 11 12 13 14]]\n",
            "[[[1 2]\n",
            "  [3 4]]\n",
            "\n",
            " [[5 6]\n",
            "  [7 8]]]\n",
            "4\n"
          ]
        }
      ]
    },
    {
      "cell_type": "code",
      "source": [
        "np.zeros((2,3,3))"
      ],
      "metadata": {
        "colab": {
          "base_uri": "https://localhost:8080/"
        },
        "id": "x5L5VIezM_vJ",
        "outputId": "c021493e-de42-4a36-db79-3d25efd0c25c"
      },
      "execution_count": 79,
      "outputs": [
        {
          "output_type": "execute_result",
          "data": {
            "text/plain": [
              "array([[[0., 0., 0.],\n",
              "        [0., 0., 0.],\n",
              "        [0., 0., 0.]],\n",
              "\n",
              "       [[0., 0., 0.],\n",
              "        [0., 0., 0.],\n",
              "        [0., 0., 0.]]])"
            ]
          },
          "metadata": {},
          "execution_count": 79
        }
      ]
    },
    {
      "cell_type": "code",
      "source": [
        "np.ones((2,3,3))"
      ],
      "metadata": {
        "colab": {
          "base_uri": "https://localhost:8080/"
        },
        "id": "j3fHNYCuNJ1T",
        "outputId": "86c4de23-c0da-4833-c4e1-43d2456bb211"
      },
      "execution_count": 82,
      "outputs": [
        {
          "output_type": "execute_result",
          "data": {
            "text/plain": [
              "array([[[1., 1., 1.],\n",
              "        [1., 1., 1.],\n",
              "        [1., 1., 1.]],\n",
              "\n",
              "       [[1., 1., 1.],\n",
              "        [1., 1., 1.],\n",
              "        [1., 1., 1.]]])"
            ]
          },
          "metadata": {},
          "execution_count": 82
        }
      ]
    },
    {
      "cell_type": "code",
      "source": [
        "np.full((2,2),99,dtype=\"float64\")"
      ],
      "metadata": {
        "colab": {
          "base_uri": "https://localhost:8080/"
        },
        "id": "kzs3VAamNStZ",
        "outputId": "dc0fa392-2fb9-4d6a-9c9e-da3a68695e7d"
      },
      "execution_count": 86,
      "outputs": [
        {
          "output_type": "execute_result",
          "data": {
            "text/plain": [
              "array([[99., 99.],\n",
              "       [99., 99.]])"
            ]
          },
          "metadata": {},
          "execution_count": 86
        }
      ]
    },
    {
      "cell_type": "code",
      "source": [
        "np.full((3,3),2)"
      ],
      "metadata": {
        "colab": {
          "base_uri": "https://localhost:8080/"
        },
        "id": "NdtNBqoIOhhL",
        "outputId": "4663d371-98c5-46c6-8aea-2926d1539663"
      },
      "execution_count": 87,
      "outputs": [
        {
          "output_type": "execute_result",
          "data": {
            "text/plain": [
              "array([[2, 2, 2],\n",
              "       [2, 2, 2],\n",
              "       [2, 2, 2]])"
            ]
          },
          "metadata": {},
          "execution_count": 87
        }
      ]
    },
    {
      "cell_type": "code",
      "source": [
        "a=np.array([[2,3,4],[1,4,5]])\n",
        "\n",
        "np.full_like(a,2)"
      ],
      "metadata": {
        "colab": {
          "base_uri": "https://localhost:8080/"
        },
        "id": "OoxtWMSqSxIl",
        "outputId": "a6f4bc80-7156-47b2-abdc-520c57a3643e"
      },
      "execution_count": 89,
      "outputs": [
        {
          "output_type": "execute_result",
          "data": {
            "text/plain": [
              "array([[2, 2, 2],\n",
              "       [2, 2, 2]])"
            ]
          },
          "metadata": {},
          "execution_count": 89
        }
      ]
    },
    {
      "cell_type": "code",
      "source": [
        "np.random.rand(4,2)"
      ],
      "metadata": {
        "colab": {
          "base_uri": "https://localhost:8080/"
        },
        "id": "MhFJ-Um4S_qq",
        "outputId": "8527ab7f-6572-48cc-9453-0e83380ec444"
      },
      "execution_count": 90,
      "outputs": [
        {
          "output_type": "execute_result",
          "data": {
            "text/plain": [
              "array([[0.17294032, 0.32361072],\n",
              "       [0.26601842, 0.37708517],\n",
              "       [0.16865027, 0.57156965],\n",
              "       [0.70567723, 0.96653057]])"
            ]
          },
          "metadata": {},
          "execution_count": 90
        }
      ]
    },
    {
      "cell_type": "code",
      "source": [
        "np.random.randint(100,105,size=(3,3))"
      ],
      "metadata": {
        "colab": {
          "base_uri": "https://localhost:8080/"
        },
        "id": "FSLZPPadTFXB",
        "outputId": "da64654a-de55-4e79-990b-840958aa5fd1"
      },
      "execution_count": 97,
      "outputs": [
        {
          "output_type": "execute_result",
          "data": {
            "text/plain": [
              "array([[103, 103, 100],\n",
              "       [103, 100, 102],\n",
              "       [100, 100, 103]])"
            ]
          },
          "metadata": {},
          "execution_count": 97
        }
      ]
    },
    {
      "cell_type": "code",
      "source": [
        "np.identity(4)"
      ],
      "metadata": {
        "colab": {
          "base_uri": "https://localhost:8080/"
        },
        "id": "_aKI2cC9TfuL",
        "outputId": "ae8e7f62-cf79-4ffe-abf5-626441111bd9"
      },
      "execution_count": 98,
      "outputs": [
        {
          "output_type": "execute_result",
          "data": {
            "text/plain": [
              "array([[1., 0., 0., 0.],\n",
              "       [0., 1., 0., 0.],\n",
              "       [0., 0., 1., 0.],\n",
              "       [0., 0., 0., 1.]])"
            ]
          },
          "metadata": {},
          "execution_count": 98
        }
      ]
    },
    {
      "cell_type": "code",
      "source": [
        "arr = np.array([[1,2,3]])\n",
        "r1 = np.repeat(arr,3, axis=0)\n",
        "print(r1)\n"
      ],
      "metadata": {
        "colab": {
          "base_uri": "https://localhost:8080/"
        },
        "id": "a4pHZJPnTqfb",
        "outputId": "085c6ab8-4373-4367-cd4c-d93d606722a6"
      },
      "execution_count": 105,
      "outputs": [
        {
          "output_type": "stream",
          "name": "stdout",
          "text": [
            "[[1 2 3]\n",
            " [1 2 3]\n",
            " [1 2 3]]\n",
            "[[2 3 4]]\n"
          ]
        }
      ]
    },
    {
      "cell_type": "code",
      "source": [
        "arr = np.array([[1,1,1,1,1]])\n",
        "r1 = np.repeat(arr,5,axis = 0)\n",
        "print(r1)\n",
        "\n",
        "arr2= np.full((5,5),1)\n",
        "print(arr2)\n",
        "\n",
        "arr2[1:-1:1,1:-1:1]=[[0,0,0],[0,9,0],[0,0,0]]\n",
        "print(arr2)\n",
        "\n",
        "\n",
        "a = np.full((5,5),1)\n",
        "z = np.full((3,3),0)\n",
        "z[1,1]=9\n",
        "a[1:-1,1:-1]=z\n",
        "\n",
        "print(a)"
      ],
      "metadata": {
        "colab": {
          "base_uri": "https://localhost:8080/"
        },
        "id": "kFLZVi58UDWt",
        "outputId": "f197d71f-a424-483f-95c9-b650c79da0c5"
      },
      "execution_count": 115,
      "outputs": [
        {
          "output_type": "stream",
          "name": "stdout",
          "text": [
            "[[1 1 1 1 1]\n",
            " [1 1 1 1 1]\n",
            " [1 1 1 1 1]\n",
            " [1 1 1 1 1]\n",
            " [1 1 1 1 1]]\n",
            "[[1 1 1 1 1]\n",
            " [1 1 1 1 1]\n",
            " [1 1 1 1 1]\n",
            " [1 1 1 1 1]\n",
            " [1 1 1 1 1]]\n",
            "[[1 1 1 1 1]\n",
            " [1 0 0 0 1]\n",
            " [1 0 9 0 1]\n",
            " [1 0 0 0 1]\n",
            " [1 1 1 1 1]]\n",
            "[[1 1 1 1 1]\n",
            " [1 0 0 0 1]\n",
            " [1 0 9 0 1]\n",
            " [1 0 0 0 1]\n",
            " [1 1 1 1 1]]\n"
          ]
        }
      ]
    },
    {
      "cell_type": "code",
      "source": [
        "a = np.array([1,2,3])\n",
        "\n",
        "b = a.copy()\n",
        "\n",
        "b[0]=3\n",
        "\n",
        "print(b)"
      ],
      "metadata": {
        "colab": {
          "base_uri": "https://localhost:8080/"
        },
        "id": "MO0ZEtNYXUJS",
        "outputId": "94ec6e0a-2372-4306-b32c-5614a151986b"
      },
      "execution_count": 117,
      "outputs": [
        {
          "output_type": "stream",
          "name": "stdout",
          "text": [
            "[3 2 3]\n"
          ]
        }
      ]
    },
    {
      "cell_type": "code",
      "source": [
        "a = np.array([1,2,3])\n",
        "\n",
        "a**2\n",
        "\n",
        "np.cos(a)\n",
        "np.sin(a)"
      ],
      "metadata": {
        "colab": {
          "base_uri": "https://localhost:8080/"
        },
        "id": "YNGQCHxKXtx-",
        "outputId": "c22866c7-b841-42f6-83b5-f42edef943da"
      },
      "execution_count": 122,
      "outputs": [
        {
          "output_type": "execute_result",
          "data": {
            "text/plain": [
              "array([0.84147098, 0.90929743, 0.14112001])"
            ]
          },
          "metadata": {},
          "execution_count": 122
        }
      ]
    },
    {
      "cell_type": "code",
      "source": [
        "c = np.identity(3)\n",
        "print(c)\n",
        "\n",
        "np.linalg.det(c)"
      ],
      "metadata": {
        "colab": {
          "base_uri": "https://localhost:8080/"
        },
        "id": "Y6AzZ1ORYtm5",
        "outputId": "84f2c427-d541-422d-a45f-59d129f47e27"
      },
      "execution_count": 125,
      "outputs": [
        {
          "output_type": "stream",
          "name": "stdout",
          "text": [
            "[[1. 0. 0.]\n",
            " [0. 1. 0.]\n",
            " [0. 0. 1.]]\n"
          ]
        },
        {
          "output_type": "execute_result",
          "data": {
            "text/plain": [
              "1.0"
            ]
          },
          "metadata": {},
          "execution_count": 125
        }
      ]
    },
    {
      "cell_type": "code",
      "source": [
        "b = np.array([[3],[2],[1]])\n",
        "print(b)\n",
        "np.matmul(a,b)\n",
        ""
      ],
      "metadata": {
        "colab": {
          "base_uri": "https://localhost:8080/"
        },
        "id": "RDQiju2RY3pa",
        "outputId": "45eb6d1e-044e-4af5-8bfa-182278dea4fb"
      },
      "execution_count": 127,
      "outputs": [
        {
          "output_type": "stream",
          "name": "stdout",
          "text": [
            "[[3]\n",
            " [2]\n",
            " [1]]\n"
          ]
        },
        {
          "output_type": "execute_result",
          "data": {
            "text/plain": [
              "array([10])"
            ]
          },
          "metadata": {},
          "execution_count": 127
        }
      ]
    },
    {
      "cell_type": "code",
      "source": [
        "stats =np.array([[4,5,7],[40,2,1]])\n",
        "np.min(stats,axis=0 )\n",
        "# np.max(stats)"
      ],
      "metadata": {
        "colab": {
          "base_uri": "https://localhost:8080/"
        },
        "id": "_Mb8e9P2aMV_",
        "outputId": "98ae275b-de7d-4dcc-bd50-d7d5d473ac31"
      },
      "execution_count": 138,
      "outputs": [
        {
          "output_type": "execute_result",
          "data": {
            "text/plain": [
              "array([4, 2, 1])"
            ]
          },
          "metadata": {},
          "execution_count": 138
        }
      ]
    },
    {
      "cell_type": "code",
      "source": [
        "a = np.arange(1,31).reshape(6,5)\n",
        "print(a)\n",
        "\n",
        "print(a[[0,1,2,3],[1,2,3,4]])\n",
        "\n",
        "print(a[1:])\n",
        "\n",
        "print(a[[0,4,5],3:])\n"
      ],
      "metadata": {
        "colab": {
          "base_uri": "https://localhost:8080/"
        },
        "id": "THDDSl-RjBAl",
        "outputId": "683b5efc-827d-4dc6-c6ac-cb2aa6869aed"
      },
      "execution_count": 158,
      "outputs": [
        {
          "output_type": "stream",
          "name": "stdout",
          "text": [
            "[[ 1  2  3  4  5]\n",
            " [ 6  7  8  9 10]\n",
            " [11 12 13 14 15]\n",
            " [16 17 18 19 20]\n",
            " [21 22 23 24 25]\n",
            " [26 27 28 29 30]]\n",
            "[ 2  8 14 20]\n",
            "[[ 6  7  8  9 10]\n",
            " [11 12 13 14 15]\n",
            " [16 17 18 19 20]\n",
            " [21 22 23 24 25]\n",
            " [26 27 28 29 30]]\n",
            "[[ 4  5]\n",
            " [24 25]\n",
            " [29 30]]\n"
          ]
        }
      ]
    },
    {
      "cell_type": "code",
      "source": [
        "import numpy as np\n",
        "\n",
        "a = np.arange(10,50,10).reshape(2,2)\n",
        "print(a)\n",
        "\n",
        "a = np.array([[10,40],[30,20]])\n",
        "print(a)\n",
        "\n",
        "b = np.sort(a, axis = 0)\n",
        "print(b)\n",
        "\n",
        "b = np.sort(a, axis = 1)\n",
        "print(b)\n",
        "\n",
        "# c = b.reshape(1,4)\n",
        "# c.sort()\n",
        "\n",
        "c = np.sort(a, axis = None)\n",
        "print(c)\n"
      ],
      "metadata": {
        "colab": {
          "base_uri": "https://localhost:8080/"
        },
        "id": "XKRIyxvumHfL",
        "outputId": "acaeaa8b-aa83-45f4-f3e9-a8f56ad280a2"
      },
      "execution_count": 17,
      "outputs": [
        {
          "output_type": "stream",
          "name": "stdout",
          "text": [
            "[[10 20]\n",
            " [30 40]]\n",
            "[[10 40]\n",
            " [30 20]]\n",
            "[[10 20]\n",
            " [30 40]]\n",
            "[[10 40]\n",
            " [20 30]]\n",
            "[10 20 30 40]\n"
          ]
        }
      ]
    },
    {
      "cell_type": "code",
      "source": [
        "a = [(b'James', 5, 48.5 ) ,(b'Nail', 6, 52.5 ) ,(b'Paul', 5, 42.1 ),\n",
        "(b'Pit', 5, 40.11)]\n",
        "\n",
        "data_type = [('name','S15'),('class',int),('height',float)]\n",
        "\n",
        "students = np.array(a,dtype = data_type)\n",
        "print(students)\n",
        "\n",
        "sorted = np.sort(students, order = 'height')\n",
        "print(sorted)\n",
        "\n",
        "sorted_a = np.sort(students, order = ['class','height'])\n",
        "print(sorted_a)\n",
        "\n",
        "print(\"Original Array: \\n\", students)\n",
        "print(\"Sort by age, then height if class are equal: \\n\", sorted_a)"
      ],
      "metadata": {
        "colab": {
          "base_uri": "https://localhost:8080/"
        },
        "id": "bkzRz2E2krht",
        "outputId": "a83a7533-9228-4114-e84f-15b1d40b9204"
      },
      "execution_count": 34,
      "outputs": [
        {
          "output_type": "stream",
          "name": "stdout",
          "text": [
            "[(b'James', 5, 48.5 ) (b'Nail', 6, 52.5 ) (b'Paul', 5, 42.1 )\n",
            " (b'Pit', 5, 40.11)]\n",
            "[(b'Pit', 5, 40.11) (b'Paul', 5, 42.1 ) (b'James', 5, 48.5 )\n",
            " (b'Nail', 6, 52.5 )]\n",
            "[(b'Pit', 5, 40.11) (b'Paul', 5, 42.1 ) (b'James', 5, 48.5 )\n",
            " (b'Nail', 6, 52.5 )]\n",
            "Original Array: \n",
            " [(b'James', 5, 48.5 ) (b'Nail', 6, 52.5 ) (b'Paul', 5, 42.1 )\n",
            " (b'Pit', 5, 40.11)]\n",
            "Sort by age, then height if class are equal: \n",
            " [(b'Pit', 5, 40.11) (b'Paul', 5, 42.1 ) (b'James', 5, 48.5 )\n",
            " (b'Nail', 6, 52.5 )]\n"
          ]
        }
      ]
    },
    {
      "cell_type": "code",
      "source": [],
      "metadata": {
        "id": "E6AYBZy25WgY"
      },
      "execution_count": null,
      "outputs": []
    },
    {
      "cell_type": "code",
      "source": [
        "print(\"sorted indices: \\n\", )\n",
        "\n",
        "student_height = np.array([40., 42., 45., 41., 38., 40., 42.0])\n",
        "key = np.array([1682, 1023])"
      ],
      "metadata": {
        "id": "hWk37MPCq1lF"
      },
      "execution_count": null,
      "outputs": []
    },
    {
      "cell_type": "code",
      "source": [
        "student_id = np.array([1023, 5202, 6230, 1671, 1682, 5241, 4532])\n",
        "sorted_indices = np.lexsort(student_id)\n",
        "\n",
        "i = np.argsort(student_id)\n",
        "\n",
        "print(student_id)\n",
        "print(i)\n"
      ],
      "metadata": {
        "colab": {
          "base_uri": "https://localhost:8080/"
        },
        "id": "jRyLW1RU6F2l",
        "outputId": "d2b8fd61-895b-4a7a-be07-8baea0495e73"
      },
      "execution_count": 37,
      "outputs": [
        {
          "output_type": "stream",
          "name": "stdout",
          "text": [
            "[1023 5202 6230 1671 1682 5241 4532]\n",
            "[0 3 4 6 1 5 2]\n",
            "1023\n"
          ]
        }
      ]
    },
    {
      "cell_type": "code",
      "source": [
        "number = np.array([1+2j, 3-1j, 3-2j, 4-3j, 3+5j])\n",
        "print(np.sort_complex(number))\n"
      ],
      "metadata": {
        "colab": {
          "base_uri": "https://localhost:8080/"
        },
        "id": "fWjw4rWT70z9",
        "outputId": "c982d226-89a9-4ea0-dc40-84c4152f42c7"
      },
      "execution_count": 40,
      "outputs": [
        {
          "output_type": "stream",
          "name": "stdout",
          "text": [
            "[1.+2.j 3.-2.j 3.-1.j 3.+5.j 4.-3.j]\n"
          ]
        }
      ]
    },
    {
      "cell_type": "code",
      "source": [
        "number = np.array([ 70, 50 ,20, 30, -11, 60, 50, 40])\n",
        "\n",
        "partitioned = np.partition(number, 4)\n",
        "print(partitioned)"
      ],
      "metadata": {
        "colab": {
          "base_uri": "https://localhost:8080/"
        },
        "id": "QOs1OjAm8_sv",
        "outputId": "fa94d8fc-536d-4303-dd82-ac0900754ad7"
      },
      "execution_count": 46,
      "outputs": [
        {
          "output_type": "stream",
          "name": "stdout",
          "text": [
            "[-11  30  20  40  50  50  60  70]\n"
          ]
        }
      ]
    },
    {
      "cell_type": "code",
      "source": [
        "number = np.array([0.39536213 ,0.11779404 ,0.32612381 ,0.16327394, 0.98837963 ,0.25510787, 0.01398678, 0.15188239, 0.12057667, 0.67278699])\n",
        "\n",
        "sorted_number = np.sort(number[:5])\n",
        "print(sorted_number)"
      ],
      "metadata": {
        "colab": {
          "base_uri": "https://localhost:8080/"
        },
        "id": "JSydkCBQ9g2g",
        "outputId": "54d4e1d6-68d1-438a-9005-69560fadee1a"
      },
      "execution_count": 47,
      "outputs": [
        {
          "output_type": "stream",
          "name": "stdout",
          "text": [
            "[0.11779404 0.16327394 0.32612381 0.39536213 0.98837963]\n"
          ]
        }
      ]
    },
    {
      "cell_type": "code",
      "source": [
        "#9번\n",
        "nums = np.array([[10, 3],\n",
        "                 [20, 1],\n",
        "                 [30, 2]])\n",
        "\n",
        "sorted_indices = nums[:,1].argsort()\n",
        "\n",
        "print(sorted_indices)\n",
        "\n",
        "# sorted_by_nth_column = np.sort(number,c)"
      ],
      "metadata": {
        "colab": {
          "base_uri": "https://localhost:8080/"
        },
        "id": "GdrPef42_jFT",
        "outputId": "f3ca2457-7e62-4011-f160-d12c7b1d1b46"
      },
      "execution_count": 52,
      "outputs": [
        {
          "output_type": "stream",
          "name": "stdout",
          "text": [
            "[1 2 0]\n"
          ]
        }
      ]
    },
    {
      "cell_type": "markdown",
      "source": [],
      "metadata": {
        "id": "cNzN-FaLBH2c"
      }
    },
    {
      "cell_type": "code",
      "source": [
        "import numpy as np\n",
        "\n",
        "arr = np.array([40, 10, 20, 30])\n",
        "sorted_indices = np.argsort(arr)\n",
        "\n",
        "print(\"원래 배열:\", arr)\n",
        "print(\"정렬된 인덱스:\", sorted_indices)\n",
        "print(\"정렬된 배열:\", arr[sorted_indices])\n"
      ],
      "metadata": {
        "colab": {
          "base_uri": "https://localhost:8080/"
        },
        "id": "aeoi6182BIQ0",
        "outputId": "f1877145-05cd-4d21-faa7-95cf09d0927d"
      },
      "execution_count": 53,
      "outputs": [
        {
          "output_type": "stream",
          "name": "stdout",
          "text": [
            "원래 배열: [40 10 20 30]\n",
            "정렬된 인덱스: [1 2 3 0]\n",
            "정렬된 배열: [10 20 30 40]\n"
          ]
        }
      ]
    },
    {
      "cell_type": "code",
      "source": [
        "# Importing the NumPy library with an alias 'np'\n",
        "import numpy as np\n",
        "\n",
        "# Setting the seed for NumPy's random number generator to 20\n",
        "np.random.seed(20)\n",
        "\n",
        "# Calculating the cube root of 7\n",
        "cbrt = np.cbrt(7)\n",
        "\n",
        "# Defining a variable 'nd1' with a value of 200\n",
        "nd1 = 200\n",
        "\n",
        "# Generating a 10x4 array of random numbers from a normal distribution with mean nd1 and standard deviation cbrt\n",
        "print(cbrt * np.random.randn(8, 5) + nd1)"
      ],
      "metadata": {
        "colab": {
          "base_uri": "https://localhost:8080/"
        },
        "id": "FSBUAEpACGKj",
        "outputId": "67b5475b-fc68-42d8-8883-998c3e7f6fcd"
      },
      "execution_count": 58,
      "outputs": [
        {
          "output_type": "stream",
          "name": "stdout",
          "text": [
            "[[202.33856136 200.51821014 200.94595271 193.80031174 197.12980276]\n",
            " [201.48081719 202.48560226 197.4111825  201.33106912 201.07527161]\n",
            " [200.85579739 198.69455751 197.90452054 197.77130393 196.61475416]\n",
            " [200.65010123 199.88307155 204.14756588 202.78097217 201.07514979]\n",
            " [199.55380436 191.56083966 202.96359139 203.52619969 199.35618614]\n",
            " [199.65597108 199.71156715 204.11728231 200.3407155  194.53136771]\n",
            " [197.65720533 197.07755738 202.46813236 205.44981909 197.52638667]\n",
            " [195.73242902 201.3944954  195.8961732  200.87207492 196.99303342]]\n"
          ]
        }
      ]
    },
    {
      "cell_type": "code",
      "source": [
        "import numpy as np\n",
        "\n",
        "np.random.seed(20)\n",
        "\n",
        "cb = np.cbrt(10)\n",
        "\n",
        "mean = 200\n",
        "print(np.random.rand(8,5)*cb+200)"
      ],
      "metadata": {
        "colab": {
          "base_uri": "https://localhost:8080/"
        },
        "id": "DZfU65xvEyaX",
        "outputId": "5f4ae49e-c6bb-4fcd-ce5e-50a24d604771"
      },
      "execution_count": 64,
      "outputs": [
        {
          "output_type": "stream",
          "name": "stdout",
          "text": [
            "[[201.2670894  201.9340656  201.92074473 201.75766856 200.07732177]\n",
            " [201.49034653 200.81584336 201.11709797 201.41751346 200.41763763]\n",
            " [200.5866879  201.54818955 201.68693014 201.83197537 201.67021449]\n",
            " [200.07899085 200.25140903 201.6185852  200.51538002 200.54896292]\n",
            " [201.8476982  202.04623688 201.21011765 200.38517095 201.65945748]\n",
            " [201.06080279 201.3599935  201.80864345 200.99327927 201.07277937]\n",
            " [201.46374688 201.40207575 200.57910179 200.1450466  201.66202817]\n",
            " [201.0362489  200.70925371 201.10014281 200.56797109 200.66897686]]\n"
          ]
        }
      ]
    },
    {
      "cell_type": "code",
      "source": [
        "import numpy as np\n",
        "\n",
        "\n",
        "a = [[1, 2], [3, 4]]\n",
        "\n",
        "x = np.array(a)\n",
        "\n",
        "a2= x.tolist()\n",
        "\n",
        "print(a == a2)"
      ],
      "metadata": {
        "colab": {
          "base_uri": "https://localhost:8080/"
        },
        "id": "O_hsPKoOFK9d",
        "outputId": "21a0a117-6ee4-4834-a616-dc7b58783343"
      },
      "execution_count": 66,
      "outputs": [
        {
          "output_type": "stream",
          "name": "stdout",
          "text": [
            "True\n"
          ]
        }
      ]
    },
    {
      "cell_type": "code",
      "source": [
        "# Importing the NumPy library with an alias 'np'\n",
        "import numpy as np\n",
        "\n",
        "# Importing the pyplot module from matplotlib with an alias 'plt'\n",
        "import matplotlib.pyplot as plt\n",
        "\n",
        "# Compute the x coordinates from 0 to 3*pi with a step of 0.2\n",
        "x = np.arange(0, 3 * np.pi, 0.1)\n",
        "\n",
        "# Compute the y coordinates by applying the sine function to each x value\n",
        "y = np.sin(x)\n",
        "\n",
        "# Printing a message indicating the plot is created using Matplotlib\n",
        "print(\"Plot the points using matplotlib:\")\n",
        "\n",
        "# Plotting the x and y coordinates using Matplotlib's plot function\n",
        "plt.plot(x, y)\n",
        "\n",
        "# Displaying the plot\n",
        "plt.show()"
      ],
      "metadata": {
        "colab": {
          "base_uri": "https://localhost:8080/",
          "height": 448
        },
        "id": "rSY_OJH_FpCh",
        "outputId": "cad553ef-d9aa-4318-c1e1-70a98973ed14"
      },
      "execution_count": 68,
      "outputs": [
        {
          "output_type": "stream",
          "name": "stdout",
          "text": [
            "Plot the points using matplotlib:\n"
          ]
        },
        {
          "output_type": "display_data",
          "data": {
            "text/plain": [
              "<Figure size 640x480 with 1 Axes>"
            ],
            "image/png": "[encoded data removed]"
          },
          "metadata": {}
        }
      ]
    },
    {
      "cell_type": "code",
      "source": [
        "import matplotlib.pyplot as plt\n",
        "\n",
        "x = np.arange(0,4+np.pi*3,0.1)\n",
        "\n",
        "y = np.cos(x)\n",
        "\n",
        "print(\"plot the points using matplotlib: \")\n",
        "plt.plot(x,y)\n",
        "plt.show()"
      ],
      "metadata": {
        "colab": {
          "base_uri": "https://localhost:8080/",
          "height": 448
        },
        "id": "2v4OE9jGGN08",
        "outputId": "62b84225-95d2-4429-d135-dfa8a78442c8"
      },
      "execution_count": 70,
      "outputs": [
        {
          "output_type": "stream",
          "name": "stdout",
          "text": [
            "plot the points using matplotlib: \n"
          ]
        },
        {
          "output_type": "display_data",
          "data": {
            "text/plain": [
              "<Figure size 640x480 with 1 Axes>"
            ],
            "image/png": "[encoded data removed]"
          },
          "metadata": {}
        }
      ]
    }
  ]
}